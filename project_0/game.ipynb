{
 "cells": [
  {
   "cell_type": "code",
   "execution_count": 8,
   "id": "17eba138",
   "metadata": {},
   "outputs": [
    {
     "ename": "AttributeError",
     "evalue": "module 'game_v2' has no attribute 'game_core_v3'",
     "output_type": "error",
     "traceback": [
      "\u001b[31m---------------------------------------------------------------------------\u001b[39m",
      "\u001b[31mAttributeError\u001b[39m                            Traceback (most recent call last)",
      "\u001b[36mCell\u001b[39m\u001b[36m \u001b[39m\u001b[32mIn[8]\u001b[39m\u001b[32m, line 3\u001b[39m\n\u001b[32m      1\u001b[39m \u001b[38;5;28;01mimport\u001b[39;00m\u001b[38;5;250m \u001b[39m\u001b[34;01mgame_v2\u001b[39;00m\n\u001b[32m----> \u001b[39m\u001b[32m3\u001b[39m game_v2.score_game(\u001b[43mgame_v2\u001b[49m\u001b[43m.\u001b[49m\u001b[43mgame_core_v3\u001b[49m)\n",
      "\u001b[31mAttributeError\u001b[39m: module 'game_v2' has no attribute 'game_core_v3'"
     ]
    }
   ],
   "source": [
    "import game_v2\n",
    "\n",
    "game_v2.score_game(game_v2.game_core_v3)\n"
   ]
  }
 ],
 "metadata": {
  "kernelspec": {
   "display_name": "Python 3",
   "language": "python",
   "name": "python3"
  },
  "language_info": {
   "codemirror_mode": {
    "name": "ipython",
    "version": 3
   },
   "file_extension": ".py",
   "mimetype": "text/x-python",
   "name": "python",
   "nbconvert_exporter": "python",
   "pygments_lexer": "ipython3",
   "version": "3.13.4"
  }
 },
 "nbformat": 4,
 "nbformat_minor": 5
}
